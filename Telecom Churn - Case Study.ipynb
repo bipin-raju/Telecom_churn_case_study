{
 "cells": [
  {
   "cell_type": "code",
   "execution_count": 113,
   "metadata": {},
   "outputs": [],
   "source": [
    "import sys\n",
    "# !{sys.executable} -m pip install matplotlib\n",
    "# !{sys.executable} -m pip install seaborn"
   ]
  },
  {
   "cell_type": "code",
   "execution_count": 114,
   "metadata": {},
   "outputs": [],
   "source": [
    "# hide warnings\n",
    "import warnings\n",
    "warnings.filterwarnings('ignore')\n",
    "\n",
    "# show multiple outputs in jupyter cell\n",
    "from IPython.core.interactiveshell import InteractiveShell\n",
    "InteractiveShell.ast_node_interactivity = \"all\""
   ]
  },
  {
   "cell_type": "code",
   "execution_count": 145,
   "metadata": {},
   "outputs": [],
   "source": [
    "# Importing Pandas and NumPy\n",
    "import pandas as pd\n",
    "import numpy as np\n",
    "import matplotlib.pyplot as plt\n",
    "import seaborn as sns\n",
    "\n",
    "from datetime import datetime"
   ]
  },
  {
   "cell_type": "code",
   "execution_count": 116,
   "metadata": {},
   "outputs": [
    {
     "data": {
      "text/plain": [
       "(99999, 226)"
      ]
     },
     "execution_count": 116,
     "metadata": {},
     "output_type": "execute_result"
    }
   ],
   "source": [
    "df = pd.read_csv(\"telecom_churn_data.csv\")\n",
    "df.shape"
   ]
  },
  {
   "cell_type": "code",
   "execution_count": 117,
   "metadata": {},
   "outputs": [
    {
     "name": "stdout",
     "output_type": "stream",
     "text": [
      "<class 'pandas.core.frame.DataFrame'>\n",
      "RangeIndex: 99999 entries, 0 to 99998\n",
      "Columns: 226 entries, mobile_number to sep_vbc_3g\n",
      "dtypes: float64(179), int64(35), object(12)\n",
      "memory usage: 172.4+ MB\n"
     ]
    }
   ],
   "source": [
    "df.info()"
   ]
  },
  {
   "cell_type": "code",
   "execution_count": 118,
   "metadata": {},
   "outputs": [
    {
     "data": {
      "text/plain": [
       "Index(['mobile_number', 'circle_id', 'loc_og_t2o_mou', 'std_og_t2o_mou',\n",
       "       'loc_ic_t2o_mou', 'last_date_of_month_6', 'last_date_of_month_7',\n",
       "       'last_date_of_month_8', 'last_date_of_month_9', 'arpu_6',\n",
       "       ...\n",
       "       'sachet_3g_9', 'fb_user_6', 'fb_user_7', 'fb_user_8', 'fb_user_9',\n",
       "       'aon', 'aug_vbc_3g', 'jul_vbc_3g', 'jun_vbc_3g', 'sep_vbc_3g'],\n",
       "      dtype='object', length=226)"
      ]
     },
     "execution_count": 118,
     "metadata": {},
     "output_type": "execute_result"
    }
   ],
   "source": [
    "df.columns"
   ]
  },
  {
   "cell_type": "code",
   "execution_count": 119,
   "metadata": {},
   "outputs": [
    {
     "data": {
      "text/plain": [
       "8.5"
      ]
     },
     "execution_count": 119,
     "metadata": {},
     "output_type": "execute_result"
    }
   ],
   "source": [
    "df[\"total_rech_good_phase\"] = (df.total_rech_num_6 + df.total_rech_num_7)/2\n",
    "high_value_cutoff = np.percentile(df[\"total_rech_good_phase\"], 70)\n",
    "high_value_cutoff"
   ]
  },
  {
   "cell_type": "code",
   "execution_count": 120,
   "metadata": {},
   "outputs": [
    {
     "data": {
      "text/plain": [
       "(30658, 227)"
      ]
     },
     "execution_count": 120,
     "metadata": {},
     "output_type": "execute_result"
    }
   ],
   "source": [
    "df = df.loc[df.total_rech_good_phase >= high_value_cutoff]\n",
    "df.shape"
   ]
  },
  {
   "cell_type": "code",
   "execution_count": 121,
   "metadata": {},
   "outputs": [
    {
     "data": {
      "text/plain": [
       "0    27720\n",
       "1     2938\n",
       "Name: churn, dtype: int64"
      ]
     },
     "execution_count": 121,
     "metadata": {},
     "output_type": "execute_result"
    }
   ],
   "source": [
    "df['churn'] = df.total_ic_mou_9 + df.total_og_mou_9 + df.vol_2g_mb_9 + df.vol_3g_mb_9\n",
    "df.churn = df.churn.apply(lambda x: 1 if x==0 else 0)\n",
    "df.churn.value_counts()"
   ]
  },
  {
   "cell_type": "code",
   "execution_count": 122,
   "metadata": {},
   "outputs": [
    {
     "data": {
      "text/plain": [
       "['last_date_of_month_9',\n",
       " 'arpu_9',\n",
       " 'onnet_mou_9',\n",
       " 'offnet_mou_9',\n",
       " 'roam_ic_mou_9',\n",
       " 'roam_og_mou_9',\n",
       " 'loc_og_t2t_mou_9',\n",
       " 'loc_og_t2m_mou_9',\n",
       " 'loc_og_t2f_mou_9',\n",
       " 'loc_og_t2c_mou_9',\n",
       " 'loc_og_mou_9',\n",
       " 'std_og_t2t_mou_9',\n",
       " 'std_og_t2m_mou_9',\n",
       " 'std_og_t2f_mou_9',\n",
       " 'std_og_t2c_mou_9',\n",
       " 'std_og_mou_9',\n",
       " 'isd_og_mou_9',\n",
       " 'spl_og_mou_9',\n",
       " 'og_others_9',\n",
       " 'total_og_mou_9',\n",
       " 'loc_ic_t2t_mou_9',\n",
       " 'loc_ic_t2m_mou_9',\n",
       " 'loc_ic_t2f_mou_9',\n",
       " 'loc_ic_mou_9',\n",
       " 'std_ic_t2t_mou_9',\n",
       " 'std_ic_t2m_mou_9',\n",
       " 'std_ic_t2f_mou_9',\n",
       " 'std_ic_t2o_mou_9',\n",
       " 'std_ic_mou_9',\n",
       " 'total_ic_mou_9',\n",
       " 'spl_ic_mou_9',\n",
       " 'isd_ic_mou_9',\n",
       " 'ic_others_9',\n",
       " 'total_rech_num_9',\n",
       " 'total_rech_amt_9',\n",
       " 'max_rech_amt_9',\n",
       " 'date_of_last_rech_9',\n",
       " 'last_day_rch_amt_9',\n",
       " 'date_of_last_rech_data_9',\n",
       " 'total_rech_data_9',\n",
       " 'max_rech_data_9',\n",
       " 'count_rech_2g_9',\n",
       " 'count_rech_3g_9',\n",
       " 'av_rech_amt_data_9',\n",
       " 'vol_2g_mb_9',\n",
       " 'vol_3g_mb_9',\n",
       " 'arpu_3g_9',\n",
       " 'arpu_2g_9',\n",
       " 'night_pck_user_9',\n",
       " 'monthly_2g_9',\n",
       " 'sachet_2g_9',\n",
       " 'monthly_3g_9',\n",
       " 'sachet_3g_9',\n",
       " 'fb_user_9']"
      ]
     },
     "execution_count": 122,
     "metadata": {},
     "output_type": "execute_result"
    }
   ],
   "source": [
    "cols = [c for c in df.columns if c[-2:] == '_9']\n",
    "df.drop(axis=1, columns =cols, inplace=True)\n",
    "cols"
   ]
  },
  {
   "cell_type": "code",
   "execution_count": 123,
   "metadata": {},
   "outputs": [
    {
     "data": {
      "text/plain": [
       "(30658, 174)"
      ]
     },
     "execution_count": 123,
     "metadata": {},
     "output_type": "execute_result"
    }
   ],
   "source": [
    "df.shape"
   ]
  },
  {
   "cell_type": "code",
   "execution_count": 124,
   "metadata": {},
   "outputs": [
    {
     "data": {
      "text/plain": [
       "mobile_number                   0\n",
       "circle_id                       0\n",
       "loc_og_t2o_mou                 12\n",
       "std_og_t2o_mou                 12\n",
       "loc_ic_t2o_mou                 12\n",
       "last_date_of_month_6            0\n",
       "last_date_of_month_7           22\n",
       "last_date_of_month_8          139\n",
       "arpu_6                          0\n",
       "arpu_7                          0\n",
       "arpu_8                          0\n",
       "onnet_mou_6                   214\n",
       "onnet_mou_7                   250\n",
       "onnet_mou_8                  1052\n",
       "offnet_mou_6                  214\n",
       "offnet_mou_7                  250\n",
       "offnet_mou_8                 1052\n",
       "roam_ic_mou_6                 214\n",
       "roam_ic_mou_7                 250\n",
       "roam_ic_mou_8                1052\n",
       "roam_og_mou_6                 214\n",
       "roam_og_mou_7                 250\n",
       "roam_og_mou_8                1052\n",
       "loc_og_t2t_mou_6              214\n",
       "loc_og_t2t_mou_7              250\n",
       "loc_og_t2t_mou_8             1052\n",
       "loc_og_t2m_mou_6              214\n",
       "loc_og_t2m_mou_7              250\n",
       "loc_og_t2m_mou_8             1052\n",
       "loc_og_t2f_mou_6              214\n",
       "loc_og_t2f_mou_7              250\n",
       "loc_og_t2f_mou_8             1052\n",
       "loc_og_t2c_mou_6              214\n",
       "loc_og_t2c_mou_7              250\n",
       "loc_og_t2c_mou_8             1052\n",
       "loc_og_mou_6                  214\n",
       "loc_og_mou_7                  250\n",
       "loc_og_mou_8                 1052\n",
       "std_og_t2t_mou_6              214\n",
       "std_og_t2t_mou_7              250\n",
       "std_og_t2t_mou_8             1052\n",
       "std_og_t2m_mou_6              214\n",
       "std_og_t2m_mou_7              250\n",
       "std_og_t2m_mou_8             1052\n",
       "std_og_t2f_mou_6              214\n",
       "std_og_t2f_mou_7              250\n",
       "std_og_t2f_mou_8             1052\n",
       "std_og_t2c_mou_6              214\n",
       "std_og_t2c_mou_7              250\n",
       "std_og_t2c_mou_8             1052\n",
       "std_og_mou_6                  214\n",
       "std_og_mou_7                  250\n",
       "std_og_mou_8                 1052\n",
       "isd_og_mou_6                  214\n",
       "isd_og_mou_7                  250\n",
       "isd_og_mou_8                 1052\n",
       "spl_og_mou_6                  214\n",
       "spl_og_mou_7                  250\n",
       "spl_og_mou_8                 1052\n",
       "og_others_6                   214\n",
       "og_others_7                   250\n",
       "og_others_8                  1052\n",
       "total_og_mou_6                  0\n",
       "total_og_mou_7                  0\n",
       "total_og_mou_8                  0\n",
       "loc_ic_t2t_mou_6              214\n",
       "loc_ic_t2t_mou_7              250\n",
       "loc_ic_t2t_mou_8             1052\n",
       "loc_ic_t2m_mou_6              214\n",
       "loc_ic_t2m_mou_7              250\n",
       "loc_ic_t2m_mou_8             1052\n",
       "loc_ic_t2f_mou_6              214\n",
       "loc_ic_t2f_mou_7              250\n",
       "loc_ic_t2f_mou_8             1052\n",
       "loc_ic_mou_6                  214\n",
       "loc_ic_mou_7                  250\n",
       "loc_ic_mou_8                 1052\n",
       "std_ic_t2t_mou_6              214\n",
       "std_ic_t2t_mou_7              250\n",
       "std_ic_t2t_mou_8             1052\n",
       "std_ic_t2m_mou_6              214\n",
       "std_ic_t2m_mou_7              250\n",
       "std_ic_t2m_mou_8             1052\n",
       "std_ic_t2f_mou_6              214\n",
       "std_ic_t2f_mou_7              250\n",
       "std_ic_t2f_mou_8             1052\n",
       "std_ic_t2o_mou_6              214\n",
       "std_ic_t2o_mou_7              250\n",
       "std_ic_t2o_mou_8             1052\n",
       "std_ic_mou_6                  214\n",
       "std_ic_mou_7                  250\n",
       "std_ic_mou_8                 1052\n",
       "total_ic_mou_6                  0\n",
       "total_ic_mou_7                  0\n",
       "total_ic_mou_8                  0\n",
       "spl_ic_mou_6                  214\n",
       "spl_ic_mou_7                  250\n",
       "spl_ic_mou_8                 1052\n",
       "isd_ic_mou_6                  214\n",
       "isd_ic_mou_7                  250\n",
       "isd_ic_mou_8                 1052\n",
       "ic_others_6                   214\n",
       "ic_others_7                   250\n",
       "ic_others_8                  1052\n",
       "total_rech_num_6                0\n",
       "total_rech_num_7                0\n",
       "total_rech_num_8                0\n",
       "total_rech_amt_6                0\n",
       "total_rech_amt_7                0\n",
       "total_rech_amt_8                0\n",
       "max_rech_amt_6                  0\n",
       "max_rech_amt_7                  0\n",
       "max_rech_amt_8                  0\n",
       "date_of_last_rech_6            56\n",
       "date_of_last_rech_7            63\n",
       "date_of_last_rech_8           443\n",
       "last_day_rch_amt_6              0\n",
       "last_day_rch_amt_7              0\n",
       "last_day_rch_amt_8              0\n",
       "date_of_last_rech_data_6    19817\n",
       "date_of_last_rech_data_7    19487\n",
       "date_of_last_rech_data_8    19906\n",
       "total_rech_data_6           19817\n",
       "total_rech_data_7           19487\n",
       "total_rech_data_8           19906\n",
       "max_rech_data_6             19817\n",
       "max_rech_data_7             19487\n",
       "max_rech_data_8             19906\n",
       "count_rech_2g_6             19817\n",
       "count_rech_2g_7             19487\n",
       "count_rech_2g_8             19906\n",
       "count_rech_3g_6             19817\n",
       "count_rech_3g_7             19487\n",
       "count_rech_3g_8             19906\n",
       "av_rech_amt_data_6          19817\n",
       "av_rech_amt_data_7          19487\n",
       "av_rech_amt_data_8          19906\n",
       "vol_2g_mb_6                     0\n",
       "vol_2g_mb_7                     0\n",
       "vol_2g_mb_8                     0\n",
       "vol_3g_mb_6                     0\n",
       "vol_3g_mb_7                     0\n",
       "vol_3g_mb_8                     0\n",
       "arpu_3g_6                   19817\n",
       "arpu_3g_7                   19487\n",
       "arpu_3g_8                   19906\n",
       "arpu_2g_6                   19817\n",
       "arpu_2g_7                   19487\n",
       "arpu_2g_8                   19906\n",
       "night_pck_user_6            19817\n",
       "night_pck_user_7            19487\n",
       "night_pck_user_8            19906\n",
       "monthly_2g_6                    0\n",
       "monthly_2g_7                    0\n",
       "monthly_2g_8                    0\n",
       "sachet_2g_6                     0\n",
       "sachet_2g_7                     0\n",
       "sachet_2g_8                     0\n",
       "monthly_3g_6                    0\n",
       "monthly_3g_7                    0\n",
       "monthly_3g_8                    0\n",
       "sachet_3g_6                     0\n",
       "sachet_3g_7                     0\n",
       "sachet_3g_8                     0\n",
       "fb_user_6                   19817\n",
       "fb_user_7                   19487\n",
       "fb_user_8                   19906\n",
       "aon                             0\n",
       "aug_vbc_3g                      0\n",
       "jul_vbc_3g                      0\n",
       "jun_vbc_3g                      0\n",
       "sep_vbc_3g                      0\n",
       "total_rech_good_phase           0\n",
       "churn                           0\n",
       "dtype: int64"
      ]
     },
     "execution_count": 124,
     "metadata": {},
     "output_type": "execute_result"
    },
    {
     "name": "stdout",
     "output_type": "stream",
     "text": [
      "\n",
      ": boolean\n",
      "    use_inf_as_null had been deprecated and will be removed in a future\n",
      "    version. Use `use_inf_as_na` instead.\n",
      "\n"
     ]
    }
   ],
   "source": [
    "pd.set_option(\"display.max_rows\", None, \"display.max_columns\", None)\n",
    "df.isnull().sum()\n",
    "pd.reset_option('all')"
   ]
  },
  {
   "cell_type": "code",
   "execution_count": 134,
   "metadata": {},
   "outputs": [
    {
     "data": {
      "text/plain": [
       "mobile_number                   0\n",
       "arpu_6                          0\n",
       "arpu_7                          0\n",
       "arpu_8                          0\n",
       "onnet_mou_6                     0\n",
       "onnet_mou_7                     0\n",
       "onnet_mou_8                     0\n",
       "offnet_mou_6                    0\n",
       "offnet_mou_7                    0\n",
       "offnet_mou_8                    0\n",
       "roam_ic_mou_6                   0\n",
       "roam_ic_mou_7                   0\n",
       "roam_ic_mou_8                   0\n",
       "roam_og_mou_6                   0\n",
       "roam_og_mou_7                   0\n",
       "roam_og_mou_8                   0\n",
       "loc_og_t2t_mou_6                0\n",
       "loc_og_t2t_mou_7                0\n",
       "loc_og_t2t_mou_8                0\n",
       "loc_og_t2m_mou_6                0\n",
       "loc_og_t2m_mou_7                0\n",
       "loc_og_t2m_mou_8                0\n",
       "loc_og_t2f_mou_6                0\n",
       "loc_og_t2f_mou_7                0\n",
       "loc_og_t2f_mou_8                0\n",
       "loc_og_t2c_mou_6                0\n",
       "loc_og_t2c_mou_7                0\n",
       "loc_og_t2c_mou_8                0\n",
       "loc_og_mou_6                    0\n",
       "loc_og_mou_7                    0\n",
       "loc_og_mou_8                    0\n",
       "std_og_t2t_mou_6                0\n",
       "std_og_t2t_mou_7                0\n",
       "std_og_t2t_mou_8                0\n",
       "std_og_t2m_mou_6                0\n",
       "std_og_t2m_mou_7                0\n",
       "std_og_t2m_mou_8                0\n",
       "std_og_t2f_mou_6                0\n",
       "std_og_t2f_mou_7                0\n",
       "std_og_t2f_mou_8                0\n",
       "std_og_mou_6                    0\n",
       "std_og_mou_7                    0\n",
       "std_og_mou_8                    0\n",
       "isd_og_mou_6                    0\n",
       "isd_og_mou_7                    0\n",
       "isd_og_mou_8                    0\n",
       "spl_og_mou_6                    0\n",
       "spl_og_mou_7                    0\n",
       "spl_og_mou_8                    0\n",
       "og_others_6                     0\n",
       "og_others_7                     0\n",
       "og_others_8                     0\n",
       "total_og_mou_6                  0\n",
       "total_og_mou_7                  0\n",
       "total_og_mou_8                  0\n",
       "loc_ic_t2t_mou_6                0\n",
       "loc_ic_t2t_mou_7                0\n",
       "loc_ic_t2t_mou_8                0\n",
       "loc_ic_t2m_mou_6                0\n",
       "loc_ic_t2m_mou_7                0\n",
       "loc_ic_t2m_mou_8                0\n",
       "loc_ic_t2f_mou_6                0\n",
       "loc_ic_t2f_mou_7                0\n",
       "loc_ic_t2f_mou_8                0\n",
       "loc_ic_mou_6                    0\n",
       "loc_ic_mou_7                    0\n",
       "loc_ic_mou_8                    0\n",
       "std_ic_t2t_mou_6                0\n",
       "std_ic_t2t_mou_7                0\n",
       "std_ic_t2t_mou_8                0\n",
       "std_ic_t2m_mou_6                0\n",
       "std_ic_t2m_mou_7                0\n",
       "std_ic_t2m_mou_8                0\n",
       "std_ic_t2f_mou_6                0\n",
       "std_ic_t2f_mou_7                0\n",
       "std_ic_t2f_mou_8                0\n",
       "std_ic_t2o_mou_6                0\n",
       "std_ic_t2o_mou_7                0\n",
       "std_ic_t2o_mou_8                0\n",
       "std_ic_mou_6                    0\n",
       "std_ic_mou_7                    0\n",
       "std_ic_mou_8                    0\n",
       "total_ic_mou_6                  0\n",
       "total_ic_mou_7                  0\n",
       "total_ic_mou_8                  0\n",
       "spl_ic_mou_6                    0\n",
       "spl_ic_mou_7                    0\n",
       "spl_ic_mou_8                    0\n",
       "isd_ic_mou_6                    0\n",
       "isd_ic_mou_7                    0\n",
       "isd_ic_mou_8                    0\n",
       "ic_others_6                     0\n",
       "ic_others_7                     0\n",
       "ic_others_8                     0\n",
       "total_rech_num_6                0\n",
       "total_rech_num_7                0\n",
       "total_rech_num_8                0\n",
       "total_rech_amt_6                0\n",
       "total_rech_amt_7                0\n",
       "total_rech_amt_8                0\n",
       "max_rech_amt_6                  0\n",
       "max_rech_amt_7                  0\n",
       "max_rech_amt_8                  0\n",
       "date_of_last_rech_6            24\n",
       "date_of_last_rech_7            14\n",
       "date_of_last_rech_8           127\n",
       "last_day_rch_amt_6              0\n",
       "last_day_rch_amt_7              0\n",
       "last_day_rch_amt_8              0\n",
       "date_of_last_rech_data_6    18866\n",
       "date_of_last_rech_data_7    18452\n",
       "date_of_last_rech_data_8    18691\n",
       "total_rech_data_6           18866\n",
       "total_rech_data_7           18452\n",
       "total_rech_data_8           18691\n",
       "max_rech_data_6             18866\n",
       "max_rech_data_7             18452\n",
       "max_rech_data_8             18691\n",
       "count_rech_2g_6             18866\n",
       "count_rech_2g_7             18452\n",
       "count_rech_2g_8             18691\n",
       "count_rech_3g_6             18866\n",
       "count_rech_3g_7             18452\n",
       "count_rech_3g_8             18691\n",
       "av_rech_amt_data_6          18866\n",
       "av_rech_amt_data_7          18452\n",
       "av_rech_amt_data_8          18691\n",
       "vol_2g_mb_6                     0\n",
       "vol_2g_mb_7                     0\n",
       "vol_2g_mb_8                     0\n",
       "vol_3g_mb_6                     0\n",
       "vol_3g_mb_7                     0\n",
       "vol_3g_mb_8                     0\n",
       "arpu_3g_6                   18866\n",
       "arpu_3g_7                   18452\n",
       "arpu_3g_8                   18691\n",
       "arpu_2g_6                   18866\n",
       "arpu_2g_7                   18452\n",
       "arpu_2g_8                   18691\n",
       "night_pck_user_6            18866\n",
       "night_pck_user_7            18452\n",
       "night_pck_user_8            18691\n",
       "monthly_2g_6                    0\n",
       "monthly_2g_7                    0\n",
       "monthly_2g_8                    0\n",
       "sachet_2g_6                     0\n",
       "sachet_2g_7                     0\n",
       "sachet_2g_8                     0\n",
       "monthly_3g_6                    0\n",
       "monthly_3g_7                    0\n",
       "monthly_3g_8                    0\n",
       "sachet_3g_6                     0\n",
       "sachet_3g_7                     0\n",
       "sachet_3g_8                     0\n",
       "fb_user_6                   18866\n",
       "fb_user_7                   18452\n",
       "fb_user_8                   18691\n",
       "aon                             0\n",
       "aug_vbc_3g                      0\n",
       "jul_vbc_3g                      0\n",
       "jun_vbc_3g                      0\n",
       "sep_vbc_3g                      0\n",
       "total_rech_good_phase           0\n",
       "churn                           0\n",
       "dtype: int64"
      ]
     },
     "execution_count": 134,
     "metadata": {},
     "output_type": "execute_result"
    },
    {
     "name": "stdout",
     "output_type": "stream",
     "text": [
      "\n",
      ": boolean\n",
      "    use_inf_as_null had been deprecated and will be removed in a future\n",
      "    version. Use `use_inf_as_na` instead.\n",
      "\n"
     ]
    }
   ],
   "source": [
    "pd.set_option(\"display.max_rows\", None, \"display.max_columns\", None)\n",
    "df.isnull().sum()\n",
    "pd.reset_option('all')"
   ]
  },
  {
   "cell_type": "code",
   "execution_count": 126,
   "metadata": {},
   "outputs": [
    {
     "data": {
      "text/plain": [
       "array([109], dtype=int64)"
      ]
     },
     "execution_count": 126,
     "metadata": {},
     "output_type": "execute_result"
    },
    {
     "data": {
      "text/plain": [
       "array([ 0., nan])"
      ]
     },
     "execution_count": 126,
     "metadata": {},
     "output_type": "execute_result"
    },
    {
     "data": {
      "text/plain": [
       "array([ 0., nan])"
      ]
     },
     "execution_count": 126,
     "metadata": {},
     "output_type": "execute_result"
    },
    {
     "data": {
      "text/plain": [
       "array([ 0., nan])"
      ]
     },
     "execution_count": 126,
     "metadata": {},
     "output_type": "execute_result"
    },
    {
     "data": {
      "text/plain": [
       "array(['6/30/2014'], dtype=object)"
      ]
     },
     "execution_count": 126,
     "metadata": {},
     "output_type": "execute_result"
    },
    {
     "data": {
      "text/plain": [
       "array(['7/31/2014', nan], dtype=object)"
      ]
     },
     "execution_count": 126,
     "metadata": {},
     "output_type": "execute_result"
    },
    {
     "data": {
      "text/plain": [
       "array(['8/31/2014', nan], dtype=object)"
      ]
     },
     "execution_count": 126,
     "metadata": {},
     "output_type": "execute_result"
    },
    {
     "data": {
      "text/plain": [
       "array([ 0., nan])"
      ]
     },
     "execution_count": 126,
     "metadata": {},
     "output_type": "execute_result"
    },
    {
     "data": {
      "text/plain": [
       "array([ 0., nan])"
      ]
     },
     "execution_count": 126,
     "metadata": {},
     "output_type": "execute_result"
    },
    {
     "data": {
      "text/plain": [
       "array([ 0., nan])"
      ]
     },
     "execution_count": 126,
     "metadata": {},
     "output_type": "execute_result"
    },
    {
     "data": {
      "text/plain": [
       "array([ 0., nan])"
      ]
     },
     "execution_count": 126,
     "metadata": {},
     "output_type": "execute_result"
    },
    {
     "data": {
      "text/plain": [
       "array([ 0., nan])"
      ]
     },
     "execution_count": 126,
     "metadata": {},
     "output_type": "execute_result"
    },
    {
     "data": {
      "text/plain": [
       "array([ 0., nan])"
      ]
     },
     "execution_count": 126,
     "metadata": {},
     "output_type": "execute_result"
    }
   ],
   "source": [
    "df.circle_id.unique()\n",
    "\n",
    "df.loc_og_t2o_mou.unique()\n",
    "df.std_og_t2o_mou.unique()\n",
    "df.loc_ic_t2o_mou.unique()\n",
    "\n",
    "df.last_date_of_month_6.unique()\n",
    "df.last_date_of_month_7.unique()\n",
    "df.last_date_of_month_8.unique()\n",
    "\n",
    "df.std_og_t2c_mou_6.unique()\n",
    "df.std_og_t2c_mou_7.unique()\n",
    "df.std_og_t2c_mou_8.unique()\n",
    "\n",
    "df.std_ic_t2o_mou_6.unique()\n",
    "df.std_ic_t2o_mou_7.unique()\n",
    "df.std_ic_t2o_mou_8.unique()\n",
    "\n",
    "df.drop(axis=1, columns =['circle_id', 'loc_og_t2o_mou', 'std_og_t2o_mou', 'loc_ic_t2o_mou',\n",
    "                         'last_date_of_month_6', 'last_date_of_month_7', 'last_date_of_month_8',\n",
    "                         'std_og_t2c_mou_6', 'std_og_t2c_mou_7', 'std_og_t2c_mou_8'], inplace=True)"
   ]
  },
  {
   "cell_type": "code",
   "execution_count": 135,
   "metadata": {},
   "outputs": [
    {
     "data": {
      "text/plain": [
       "(29350, 164)"
      ]
     },
     "execution_count": 135,
     "metadata": {},
     "output_type": "execute_result"
    }
   ],
   "source": [
    "df.shape"
   ]
  },
  {
   "cell_type": "code",
   "execution_count": 133,
   "metadata": {},
   "outputs": [],
   "source": [
    "df = df.loc[~df.onnet_mou_6.isnull()]\n",
    "df = df.loc[~df.onnet_mou_7.isnull()]\n",
    "df = df.loc[~df.onnet_mou_8.isnull()]"
   ]
  },
  {
   "cell_type": "code",
   "execution_count": 136,
   "metadata": {},
   "outputs": [
    {
     "data": {
      "text/plain": [
       "count         29223\n",
       "unique           31\n",
       "top       8/31/2014\n",
       "freq           8085\n",
       "Name: date_of_last_rech_8, dtype: object"
      ]
     },
     "execution_count": 136,
     "metadata": {},
     "output_type": "execute_result"
    }
   ],
   "source": [
    "df.date_of_last_rech_8.describe()"
   ]
  },
  {
   "cell_type": "code",
   "execution_count": 142,
   "metadata": {},
   "outputs": [],
   "source": [
    "df['date_of_last_rech_6'] =  pd.to_datetime(df['date_of_last_rech_6'], format='%m/%d/%Y')\n",
    "df['date_of_last_rech_7'] =  pd.to_datetime(df['date_of_last_rech_7'], format='%m/%d/%Y')\n",
    "df['date_of_last_rech_8'] =  pd.to_datetime(df['date_of_last_rech_8'], format='%m/%d/%Y')"
   ]
  },
  {
   "cell_type": "code",
   "execution_count": 143,
   "metadata": {},
   "outputs": [],
   "source": [
    "# df['date_of_last_rech_8'].fillna('7/31/2014')\n",
    "# df['date_of_last_rech_7'].fillna('6/30/2014')\n"
   ]
  },
  {
   "cell_type": "code",
   "execution_count": 153,
   "metadata": {},
   "outputs": [],
   "source": [
    "df['days_since_last_rech'] = datetime(2014, 9, 1, 12, 0, 0) - df['date_of_last_rech_8']"
   ]
  },
  {
   "cell_type": "code",
   "execution_count": 156,
   "metadata": {},
   "outputs": [
    {
     "ename": "AttributeError",
     "evalue": "'float' object has no attribute 'days'",
     "output_type": "error",
     "traceback": [
      "\u001b[1;31m---------------------------------------------------------------------------\u001b[0m",
      "\u001b[1;31mAttributeError\u001b[0m                            Traceback (most recent call last)",
      "\u001b[1;32m<ipython-input-156-78ebe4c1c31c>\u001b[0m in \u001b[0;36m<module>\u001b[1;34m\u001b[0m\n\u001b[1;32m----> 1\u001b[1;33m \u001b[0mdf\u001b[0m\u001b[1;33m[\u001b[0m\u001b[1;34m'days_since_last_rech'\u001b[0m\u001b[1;33m]\u001b[0m \u001b[1;33m=\u001b[0m \u001b[0mdf\u001b[0m\u001b[1;33m[\u001b[0m\u001b[1;34m'days_since_last_rech'\u001b[0m\u001b[1;33m]\u001b[0m\u001b[1;33m.\u001b[0m\u001b[0mapply\u001b[0m\u001b[1;33m(\u001b[0m\u001b[1;32mlambda\u001b[0m \u001b[0mx\u001b[0m\u001b[1;33m:\u001b[0m \u001b[0mfloat\u001b[0m\u001b[1;33m(\u001b[0m\u001b[0mx\u001b[0m\u001b[1;33m.\u001b[0m\u001b[0mdays\u001b[0m\u001b[1;33m)\u001b[0m\u001b[1;33m)\u001b[0m\u001b[1;33m\u001b[0m\u001b[0m\n\u001b[0m\u001b[0;32m      2\u001b[0m \u001b[0mdf\u001b[0m\u001b[1;33m[\u001b[0m\u001b[1;34m'days_since_last_rech'\u001b[0m\u001b[1;33m]\u001b[0m\u001b[1;33m\u001b[0m\u001b[0m\n",
      "\u001b[1;32mc:\\Users\\bipin\\Documents\\Projects\\VPN_Time_Logger\\env\\lib\\site-packages\\pandas\\core\\series.py\u001b[0m in \u001b[0;36mapply\u001b[1;34m(self, func, convert_dtype, args, **kwds)\u001b[0m\n\u001b[0;32m   3846\u001b[0m             \u001b[1;32melse\u001b[0m\u001b[1;33m:\u001b[0m\u001b[1;33m\u001b[0m\u001b[0m\n\u001b[0;32m   3847\u001b[0m                 \u001b[0mvalues\u001b[0m \u001b[1;33m=\u001b[0m \u001b[0mself\u001b[0m\u001b[1;33m.\u001b[0m\u001b[0mastype\u001b[0m\u001b[1;33m(\u001b[0m\u001b[0mobject\u001b[0m\u001b[1;33m)\u001b[0m\u001b[1;33m.\u001b[0m\u001b[0mvalues\u001b[0m\u001b[1;33m\u001b[0m\u001b[0m\n\u001b[1;32m-> 3848\u001b[1;33m                 \u001b[0mmapped\u001b[0m \u001b[1;33m=\u001b[0m \u001b[0mlib\u001b[0m\u001b[1;33m.\u001b[0m\u001b[0mmap_infer\u001b[0m\u001b[1;33m(\u001b[0m\u001b[0mvalues\u001b[0m\u001b[1;33m,\u001b[0m \u001b[0mf\u001b[0m\u001b[1;33m,\u001b[0m \u001b[0mconvert\u001b[0m\u001b[1;33m=\u001b[0m\u001b[0mconvert_dtype\u001b[0m\u001b[1;33m)\u001b[0m\u001b[1;33m\u001b[0m\u001b[0m\n\u001b[0m\u001b[0;32m   3849\u001b[0m \u001b[1;33m\u001b[0m\u001b[0m\n\u001b[0;32m   3850\u001b[0m         \u001b[1;32mif\u001b[0m \u001b[0mlen\u001b[0m\u001b[1;33m(\u001b[0m\u001b[0mmapped\u001b[0m\u001b[1;33m)\u001b[0m \u001b[1;32mand\u001b[0m \u001b[0misinstance\u001b[0m\u001b[1;33m(\u001b[0m\u001b[0mmapped\u001b[0m\u001b[1;33m[\u001b[0m\u001b[1;36m0\u001b[0m\u001b[1;33m]\u001b[0m\u001b[1;33m,\u001b[0m \u001b[0mSeries\u001b[0m\u001b[1;33m)\u001b[0m\u001b[1;33m:\u001b[0m\u001b[1;33m\u001b[0m\u001b[0m\n",
      "\u001b[1;32mpandas\\_libs\\lib.pyx\u001b[0m in \u001b[0;36mpandas._libs.lib.map_infer\u001b[1;34m()\u001b[0m\n",
      "\u001b[1;32m<ipython-input-156-78ebe4c1c31c>\u001b[0m in \u001b[0;36m<lambda>\u001b[1;34m(x)\u001b[0m\n\u001b[1;32m----> 1\u001b[1;33m \u001b[0mdf\u001b[0m\u001b[1;33m[\u001b[0m\u001b[1;34m'days_since_last_rech'\u001b[0m\u001b[1;33m]\u001b[0m \u001b[1;33m=\u001b[0m \u001b[0mdf\u001b[0m\u001b[1;33m[\u001b[0m\u001b[1;34m'days_since_last_rech'\u001b[0m\u001b[1;33m]\u001b[0m\u001b[1;33m.\u001b[0m\u001b[0mapply\u001b[0m\u001b[1;33m(\u001b[0m\u001b[1;32mlambda\u001b[0m \u001b[0mx\u001b[0m\u001b[1;33m:\u001b[0m \u001b[0mfloat\u001b[0m\u001b[1;33m(\u001b[0m\u001b[0mx\u001b[0m\u001b[1;33m.\u001b[0m\u001b[0mdays\u001b[0m\u001b[1;33m)\u001b[0m\u001b[1;33m)\u001b[0m\u001b[1;33m\u001b[0m\u001b[0m\n\u001b[0m\u001b[0;32m      2\u001b[0m \u001b[0mdf\u001b[0m\u001b[1;33m[\u001b[0m\u001b[1;34m'days_since_last_rech'\u001b[0m\u001b[1;33m]\u001b[0m\u001b[1;33m\u001b[0m\u001b[0m\n",
      "\u001b[1;31mAttributeError\u001b[0m: 'float' object has no attribute 'days'"
     ]
    }
   ],
   "source": [
    "df['days_since_last_rech'] = df['days_since_last_rech'].apply(lambda x: float(x.days))"
   ]
  },
  {
   "cell_type": "code",
   "execution_count": 157,
   "metadata": {},
   "outputs": [
    {
     "data": {
      "text/plain": [
       "3        1.0\n",
       "6        4.0\n",
       "8        2.0\n",
       "17       7.0\n",
       "21       1.0\n",
       "        ... \n",
       "99970    9.0\n",
       "99980    1.0\n",
       "99984    5.0\n",
       "99987    2.0\n",
       "99988    3.0\n",
       "Name: days_since_last_rech, Length: 29350, dtype: float64"
      ]
     },
     "execution_count": 157,
     "metadata": {},
     "output_type": "execute_result"
    }
   ],
   "source": [
    "df['days_since_last_rech']"
   ]
  },
  {
   "cell_type": "code",
   "execution_count": null,
   "metadata": {},
   "outputs": [],
   "source": []
  }
 ],
 "metadata": {
  "kernelspec": {
   "display_name": "Python 3.7.0 64-bit ('env': venv)",
   "language": "python",
   "name": "python37064bitenvvenv96feed699e6c4920b6885ab94bbe9872"
  },
  "language_info": {
   "codemirror_mode": {
    "name": "ipython",
    "version": 3
   },
   "file_extension": ".py",
   "mimetype": "text/x-python",
   "name": "python",
   "nbconvert_exporter": "python",
   "pygments_lexer": "ipython3",
   "version": "3.7.0"
  }
 },
 "nbformat": 4,
 "nbformat_minor": 2
}
